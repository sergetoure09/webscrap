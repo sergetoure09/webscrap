{
 "cells": [
  {
   "cell_type": "code",
   "execution_count": 4,
   "metadata": {},
   "outputs": [
    {
     "name": "stdout",
     "output_type": "stream",
     "text": [
      "              prop_address                                          prop_desc  \\\n",
      "0   Rock Springs, WY 82901   This Location could be used for almost anythi...   \n",
      "1   Rock Springs, WY 82901   Beautiful new construction located on a corne...   \n",
      "2   Rock Springs, WY 82901   First Built in 2009 and upgraded this year. H...   \n",
      "3   Rock Springs, WY 82901   Beautiful Custom built home on large corner l...   \n",
      "4   Rock Springs, WY 82901        Bi-level home in established neighborhood.    \n",
      "5   Rock Springs, WY 82901   Open Concept 4 bedroom, 2 Full Bath home offe...   \n",
      "6   Rock Springs, WY 82901   Located in cul-de-sac, no back neighbors, hom...   \n",
      "7   Rock Springs, WY 82901   Very nice tri level, all new windows, floorin...   \n",
      "8   Rock Springs, WY 82901   Remodeled home, new stove, dishwasher, microw...   \n",
      "9   Rock Springs, WY 82901   Located 55 miles from Rock Springs along WY-1...   \n",
      "10   Rocksprings, TX 78880   Partners Ranch, a unique 603+/-Acre hunting/r...   \n",
      "11   Rocksprings, TX 78880   Scentral Edwards County. 4/2 2000sqft lodge w...   \n",
      "12   Rocksprings, TX 78880   This ranch is exceptional with all the white-...   \n",
      "13   Rocksprings, TX 78880   Headquarters Pasture - Partners Ranch, a uniq...   \n",
      "14   Rocksprings, TX 78880   The B-6 Ranch is a remote, end of the road pr...   \n",
      "15   Rocksprings, TX 78880   304.89 acres of prime hunting land. Nice 2 be...   \n",
      "16   Rocksprings, TX 78880   Located in central Edwards county ten minutes...   \n",
      "17   Rocksprings, TX 78880   217.7 beautifully wooded acres located in SE ...   \n",
      "18   Rocksprings, TX 78880   Located in North Central Edwards County. Easy...   \n",
      "19   Rocksprings, TX 78880   Located 30 minutes southwest of Rocksprings. ...   \n",
      "\n",
      "    prop_mls  prop_price  \n",
      "0   20156419    $725,000  \n",
      "1   20152130    $452,900  \n",
      "2   20156389    $396,900  \n",
      "3   20160119    $389,900  \n",
      "4   20155008    $254,000  \n",
      "5   20160028    $252,900  \n",
      "6   20156320    $210,000  \n",
      "7   20155756    $209,000  \n",
      "8   20156880    $199,900  \n",
      "9   20156365    $196,900  \n",
      "10     81415  $1,700,000  \n",
      "11     85217  $1,100,000  \n",
      "12     86198  $1,080,000  \n",
      "13     85642    $908,350  \n",
      "14     85215    $905,000  \n",
      "15     86361    $695,000  \n",
      "16     86312    $605,000  \n",
      "17     85713    $559,805  \n",
      "18     86642    $504,000  \n",
      "19     86390    $410,000  \n"
     ]
    }
   ],
   "source": [
    "import requests\n",
    "from bs4 import BeautifulSoup\n",
    "import pandas\n",
    "pages=[\"http://pythonhow.com/real-estate/rock-springs-wy/LCWYROCKSPRINGS/\",\"http://pythonhow.com/real-estate/rock-springs-wy/LCWYROCKSPRINGS/t=0&s=10.html\",\"http://pythonhow.com/real-estate/rock-springs-wy/LCWYROCKSPRINGS/t=0&s=20.html\"]\n",
    "mls=list()\n",
    "desc=list()\n",
    "address=list()\n",
    "price=list()\n",
    "img=list()\n",
    "for p in pages:\n",
    "    req=requests.get(p)\n",
    "    content=req.content\n",
    "    soup=BeautifulSoup(content,\"html.parser\")\n",
    "    properties=soup.find_all(\"div\",{\"class\":\"propertyRow\"})\n",
    "    try:\n",
    "        for propertyrow in properties:\n",
    "            price.append(propertyrow.find_all(\"h4\",{\"class\":\"propPrice\"})[0].text.strip())\n",
    "            address.append(propertyrow.find_all(\"div\",{\"class\":\"primaryDetails\"})[0].find_all(\"span\",{\"class\":\"propAddressCollapse\"})[1].text.strip())\n",
    "            desc.append(propertyrow.find_all(\"div\",{\"class\":\"propertyDescCollapse\"})[0].text)\n",
    "            mls.append(propertyrow.find_all(\"div\",{\"class\":\"propertyMLS\"})[0].text[4:].strip())\n",
    "            img.append(propertyrow.find_all(\"img\",{\"class\":\"lazyLoad\"})[0]['rel'])\n",
    "    except Exception as e:\n",
    "        pass\n",
    "\n",
    " \n",
    "#print(price,address,desc,mls,img)    \n",
    "data=pandas.DataFrame({\"prop_mls\":mls,\"prop_desc\":desc,\"prop_address\":address,\"prop_price\":price})\n",
    "\n",
    "print(data)"
   ]
  },
  {
   "cell_type": "code",
   "execution_count": null,
   "metadata": {
    "collapsed": true
   },
   "outputs": [],
   "source": []
  }
 ],
 "metadata": {
  "kernelspec": {
   "display_name": "Python 3",
   "language": "python",
   "name": "python3"
  },
  "language_info": {
   "codemirror_mode": {
    "name": "ipython",
    "version": 3
   },
   "file_extension": ".py",
   "mimetype": "text/x-python",
   "name": "python",
   "nbconvert_exporter": "python",
   "pygments_lexer": "ipython3",
   "version": "3.6.3"
  }
 },
 "nbformat": 4,
 "nbformat_minor": 2
}
