{
 "cells": [
  {
   "cell_type": "code",
   "execution_count": 24,
   "metadata": {
    "scrolled": true
   },
   "outputs": [],
   "source": [
    "import requests\n",
    "from bs4 import BeautifulSoup\n",
    "import pandas\n",
    "pages=[\"http://pythonhow.com/real-estate/rock-springs-wy/LCWYROCKSPRINGS/\",\"http://pythonhow.com/real-estate/rock-springs-wy/LCWYROCKSPRINGS/t=0&s=10.html\",\"http://pythonhow.com/real-estate/rock-springs-wy/LCWYROCKSPRINGS/t=0&s=20.html\"]\n",
    "mls=list()\n",
    "desc=list()\n",
    "address=list()\n",
    "price=list()\n",
    "img=list()\n",
    "for p in pages:\n",
    "    req=requests.get(p)\n",
    "    content=req.content\n",
    "    soup=BeautifulSoup(content,\"html.parser\")\n",
    "    properties=soup.find_all(\"div\",{\"class\":\"propertyRow\"})\n",
    "    try:\n",
    "        for propertyrow in properties:\n",
    "            price.append(propertyrow.find_all(\"h4\",{\"class\":\"propPrice\"})[0].text.strip())\n",
    "            address.append(propertyrow.find_all(\"div\",{\"class\":\"primaryDetails\"})[0].find_all(\"span\",{\"class\":\"propAddressCollapse\"})[1].text.strip())\n",
    "            try:\n",
    "                desc.append(propertyrow.find_all(\"div\",{\"class\":\"propertyDescCollapse\"})[0].text)\n",
    "            except:\n",
    "                desc.append(\"NAN\")\n",
    "            mls.append(propertyrow.find_all(\"div\",{\"class\":\"propertyMLS\"})[0].text[4:].strip())\n",
    "            img.append(propertyrow.find_all(\"img\",{\"class\":\"lazyLoad\"})[0]['rel'])\n",
    "    except Exception as e:\n",
    "        print(e)\n",
    "\n",
    " \n",
    "#print(price,address,desc,mls,img)    \n",
    "data=pandas.DataFrame({\"prop_mls\":mls,\"prop_desc\":desc,\"prop_address\":address,\"prop_price\":price,\"prop_img\":img})\n",
    "\n",
    "#print(data)\n",
    "\n",
    "\n",
    "        \n",
    "\n",
    "\n"
   ]
  },
  {
   "cell_type": "code",
   "execution_count": null,
   "metadata": {
    "collapsed": true
   },
   "outputs": [],
   "source": []
  }
 ],
 "metadata": {
  "kernelspec": {
   "display_name": "Python 3",
   "language": "python",
   "name": "python3"
  },
  "language_info": {
   "codemirror_mode": {
    "name": "ipython",
    "version": 3
   },
   "file_extension": ".py",
   "mimetype": "text/x-python",
   "name": "python",
   "nbconvert_exporter": "python",
   "pygments_lexer": "ipython3",
   "version": "3.6.3"
  }
 },
 "nbformat": 4,
 "nbformat_minor": 2
}
